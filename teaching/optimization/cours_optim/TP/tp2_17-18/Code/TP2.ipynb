{
 "cells": [
  {
   "cell_type": "markdown",
   "metadata": {
    "extensions": {
     "jupyter_dashboards": {
      "version": 1,
      "views": {
       "grid_default": {},
       "report_default": {
        "hidden": false
       }
      }
     }
    }
   },
   "source": [
    "   # TP2 : Minimisation par optimisation proximale\n",
    "   \n",
    "   ## Menu\n",
    "   1. [Implémentation de ISTA](#ISTA) \n",
    "   2. [Acquisition comprimée](#acqui)\n",
    "   3. [Minimisation de la fonction max](#max)\n",
    "   4. [Complétion de matrice de faible rang](#completion)"
   ]
  },
  {
   "cell_type": "markdown",
   "metadata": {},
   "source": [
    "Dans ce TP on s'intéresse à des problèmes de minimisation **non-différentiable** en utilisant la théorie des opérateurs proximaux. La plupart des algorithmes présentés ici reposent sur la méthode d'éclatement, *splitting*.\n",
    "\n",
    "En préambule on charge les paquets suivants."
   ]
  },
  {
   "cell_type": "code",
   "execution_count": 6,
   "metadata": {},
   "outputs": [],
   "source": [
    "import numpy as np\n",
    "import matplotlib.pyplot as plt"
   ]
  },
  {
   "cell_type": "markdown",
   "metadata": {},
   "source": [
    "# Implémentation de ISTA \n",
    "<a id=\"ISTA\"></a>\n"
   ]
  },
  {
   "cell_type": "markdown",
   "metadata": {},
   "source": [
    "L'algorithme Iterative Shrinkage-Thresholding Algorithm, ISTA, permet la minimisation de fonctions convexes via la technique d'éclatement. En effet si ${F = f + \\lambda g}$ avec $f$ convexe et assez lisse et $g$ convexe, éventuellement non-différentiable, mais pour laquelle **on peut calculer le proximal** alors on peut mettre en place un algorithme alterné.\n",
    "\\begin{equation}\n",
    "x_{k+1} = \\operatorname{prox}_{\\lambda g}^{\\gamma}\\lbrace x_k - \\gamma \\nabla f (x_k) \\rbrace.\n",
    "\\end{equation}\n",
    "On montre tout d'abord que pour $(\\lambda, \\gamma) \\in \\mathbb{R}_+^*$ on a \n",
    "\\begin{equation}\n",
    "\\operatorname{prox}_{\\lambda g}^{\\gamma} = \\operatorname{prox}_{g}^{\\lambda \\gamma}\n",
    "\\end{equation}"
   ]
  },
  {
   "cell_type": "markdown",
   "metadata": {},
   "source": [
    "**Preuve :** \n",
    "Soit $x \\in \\mathbb{R}^d$. \n",
    "On a \n",
    "\\begin{equation}\n",
    "\\begin{aligned}\n",
    "\\operatorname{prox}_{\\lambda g}^{\\gamma}(x) &= \\operatorname{argmin} \\lbrace \\lambda g(y) + (2 \\gamma)^{-1} \\| y - x \\|^2\\rbrace \\\\\n",
    "&= \\operatorname{argmin} \\lbrace g(y) + (2 \\gamma \\lambda)^{-1} \\| y - x \\|^2\\rbrace \\\\\n",
    "&= \\operatorname{prox}_g^{\\lambda \\gamma}(x)\n",
    "\\end{aligned}\n",
    "\\end{equation}\n",
    "\n",
    "Ci-dessous on présente l'implémentation de l'algorithme ISTA."
   ]
  },
  {
   "cell_type": "code",
   "execution_count": 7,
   "metadata": {},
   "outputs": [],
   "source": [
    "def ista(dim, prox_op_g, grad_f, fun_total, lambda_l, n_it=10):\n",
    "    #    Variables d'entrée :\n",
    "    #    dim : dimension du problème\n",
    "    #    prox_op_g : opérateur proximal de g qui prend en entrée x et gamma\n",
    "    #    grad_f : gradient de f\n",
    "    #    fun_total : fonction F = f+lambda*g\n",
    "    #    lambda_l : paramètre lambda dans F\n",
    "    #    n_it : nombre d'itérations\n",
    "    #    Variables de sortie : x, fun_iterate\n",
    "    #    x : itéré final de Ista\n",
    "    #    fun_iterate : suite (f(x_k))\n",
    "\n",
    "    x = np.zeros(dim)\n",
    "    grad_f_x, Lip_grad_f = grad_f(x)\n",
    "    gamma = 1. / (Lip_grad_f)\n",
    "    fun_iterate = []\n",
    "    for it in range(n_it):\n",
    "        x = prox_op_g(x - gamma * grad_f_x, lambda_l * gamma)\n",
    "        fun_iterate.append(fun_total(x))\n",
    "        grad_f_x, _ = grad_f(x)\n",
    "        #if np.mod(it, 10) == 0:\n",
    "            #print('iteration number: ', it, end=\"\\r\", flush=True)\n",
    "    return x, fun_iterate\n",
    "\n",
    "\n",
    "def ista_mat(dim_1, dim_2, prox_op_g, grad_f, fun_total, lambda_l, n_it=500):\n",
    "    x = np.zeros((dim_1, dim_2))\n",
    "    grad_f_x, Lip_grad_f = grad_f(x)\n",
    "    gamma = 1. / (Lip_grad_f)\n",
    "    fun_iterate = []\n",
    "    for it in range(n_it):\n",
    "        x = prox_op_g(x - gamma * grad_f_x, lambda_l * gamma)\n",
    "        fun_iterate.append(fun_total(x))\n",
    "        grad_f_x, _ = grad_f(x)\n",
    "    return x, fun_iterate"
   ]
  },
  {
   "cell_type": "markdown",
   "metadata": {},
   "source": [
    "# Acquisition comprimée\n",
    "<a id=\"acqui\"></a>"
   ]
  },
  {
   "cell_type": "markdown",
   "metadata": {},
   "source": [
    "Le problème d'**acquistion comprimée** (le plus souvent *compressed sensing* dans la littérature) est un problème classique en traitement du signal. Il s'agit de reconstruire un signal parcimonieux $x$ (i.e dont peu de composantes sont non nulles) via une représentation basse dimensionnelle $y$. Le problème s'écrit\n",
    "\\begin{equation}\n",
    "F(x) = \\| y - Ax \\|_2^2 + \\|x\\|_1,\n",
    "\\end{equation}\n",
    "avec $x \\in \\mathbb{R}^d$ et $y \\in \\mathbb{R}^p$ avec $p << d$."
   ]
  },
  {
   "cell_type": "code",
   "execution_count": 8,
   "metadata": {},
   "outputs": [],
   "source": [
    "from tp2_tools import *\n",
    "import warnings\n",
    "warnings.filterwarnings('ignore')\n",
    "\n",
    "lambda_l1 = 1\n",
    "y, A = noisy_observations()"
   ]
  },
  {
   "cell_type": "code",
   "execution_count": 9,
   "metadata": {},
   "outputs": [
    {
     "data": {
      "image/png": "[encoded data removed]",
      "text/plain": [
       "<Figure size 432x288 with 1 Axes>"
      ]
     },
     "metadata": {},
     "output_type": "display_data"
    }
   ],
   "source": [
    "def show_image(x):\n",
    "    fig = plt.imshow(x)\n",
    "    fig.set_cmap('gray')\n",
    "    fig.axes.get_xaxis().set_visible(False)\n",
    "    fig.axes.get_yaxis().set_visible(False)\n",
    "    plt.show()\n",
    "\n",
    "x_true = load_image(\"barb.bmp\",256)\n",
    "show_image(x_true)"
   ]
  },
  {
   "cell_type": "markdown",
   "metadata": {},
   "source": [
    "On a $f:x \\ \\mapsto \\|A x - y \\|^2$. On a bien une fonction de classe $C^1$ dont le gradient est donné par \n",
    "\\begin{equation}\n",
    "\\forall x \\in \\mathbb{R}, \\nabla f (x) = 2 A^T (Ax-y).\n",
    "\\end{equation}"
   ]
  },
  {
   "cell_type": "markdown",
   "metadata": {},
   "source": [
    "La seconde propriété est très intéressante. En effet, si la fonction dont on doit calculer le proximal est séparable en ses $d$ variables on est ramené à calculer $d$ problèmes proximaux unidimensionnels. Soit \n",
    "\\begin{equation}\n",
    "h: \\ x \\mapsto \\ \\underset{i = 1}{\\overset{d}{\\sum}} h_i(x_i),\n",
    "\\end{equation}\n",
    "avec $h_i$ convexe, sci et propre.\n",
    "\\begin{equation}\n",
    "\\begin{aligned}\n",
    "\\forall x \\in \\mathbb{R}^d, \\operatorname{prox}_h^{\\gamma}(x) &= \\underset{y \\in \\mathbb{R}^d}{\\operatorname{argmin}} \\lbrace h(y) + (2\\gamma)^{-1} \\| y -x \\|^2 \\rbrace \\\\\n",
    "&= \\underset{y \\in \\mathbb{R}^d}{\\operatorname{argmin}} \\left\\lbrace \\underset{i=1}{\\overset{d}{\\sum}} h_i(y_i) + (2\\gamma)^{-1} \\underset{i=1}{\\overset{d}{\\sum}} (y_i - x_i)^2\\right\\rbrace \\\\\n",
    "&= \\underset{y \\in \\mathbb{R}^d}{\\operatorname{argmin}} \\left\\lbrace \\underset{i=1}{\\overset{d}{\\sum}} \\left(h_i(y_i) + (2\\gamma)^{-1} (y_i - x_i)^2\\right)\\right\\rbrace \\\\\n",
    "&= \\left( \\operatorname{prox}_{h_i}^{\\gamma}(x_i) \\right)_{i \\in \\lbrace 1,d \\rbrace}\n",
    "\\end{aligned}\n",
    "\\end{equation}"
   ]
  },
  {
   "cell_type": "markdown",
   "metadata": {},
   "source": [
    "$\\def\\prox{\\mathrm{prox}}$\n",
    "D'après un exercice vu en td, on a pour deux fonctions convexes $f,g : \\mathbb{R}^d \\to (-\\infty,+\\infty]$ convexes sci telles que $g$ soit continûement différentiable, on a\n",
    "\\begin{equation}\n",
    "\\partial \\left( f+g\\right) = \\nabla g + \\partial (f)\n",
    "\\end{equation}\n",
    "On va démontrer la formule demandée dans le cas général, i.e. on a pour tout fonction $f : \\mathbb{R}^d \\to (-\\infty,+\\infty]$ convexe sci,\n",
    "\\begin{equation}\n",
    "\\prox_{f}^{\\gamma}(x) \\in x - \\gamma \\partial f( \\prox_{f}^{\\gamma}(x)) .\n",
    "\\end{equation}\n",
    "En effet \n",
    "\\begin{equation}\n",
    "\\begin{aligned}\n",
    "& x^* = \\underset{y \\in \\mathbb{R}^d}{\\operatorname{argmin}} \\left( f(y) +g(y)+ (2\\gamma)^{-1} \\| y - x \\|^2 \\right) \\\\\n",
    "& \\Leftrightarrow 0 \\in \\partial \\left( f + g+(2 \\gamma)^{-1} \\|\\cdot -x \\|^2 \\right)(x^*) \\\\\n",
    "& \\Leftrightarrow 0 \\in \\partial f(x^*) + \\gamma^{-1}(x^* -x) \\\\\n",
    "&\\Leftrightarrow x^* \\in x - \\gamma \\partial f(x^*).\n",
    "\\end{aligned}\n",
    "\\end{equation}\n",
    "On a utilisé ici que la somme de sous-différentielles est la sous-différentielle de la somme *sous conditions*. Pour une preuve complète on consultera [ce cours](https://maunamn.wordpress.com/8-the-subdifferential-sum-rule/) (chapitres 6 et 8).\n",
    "C'est la raison pour laquelle l'opérateur proximal proximal est parfois noté $\\left(\\operatorname{Id} + \\gamma \\partial f\\right)^{-1}$. Il est bon de noter que si on note $x = x^k$ et $x^* = x^{k+1}$ on a\n",
    "\\begin{equation}\n",
    "x^{k+1} \\in x^k - \\gamma \\partial f(x^k).\n",
    "\\end{equation}\n",
    "On retrouve un schéma de **descente de gradient**.\n",
    "<!--\n",
    "** Remarque : ** on peut prouver le résultat précédent sans utiliser la propriété de commutativité de la sous-différentielle et de la somme.\n",
    "Le résultat énoncé ci-dessous est issu de *Convex Analysis and Monotone Operator Theory in Hilbert Spaces* (Bauschke & Combettes, 2011).\n",
    "\\begin{equation}\n",
    "\\forall y \\in \\mathbb{R}^d, f(\\operatorname{prox}_f^{\\gamma}(x)) - f(y) \\ge \\gamma^{-1} \\langle y - \\operatorname{prox}_f^{\\gamma}(x), x - \\operatorname{prox}_f^{\\gamma}(x) \\rangle.\n",
    "\\end{equation}\n",
    "Cette équation est fondamentale et permet de démontrer que l'opérateur proximal est fermement non expansif.\n",
    "-->"
   ]
  },
  {
   "cell_type": "markdown",
   "metadata": {},
   "source": [
    "Il s'agit maintenant d'appliquer nos résultats au cas unidimensionnel suivant\n",
    "\\begin{equation}\n",
    "t^* \\in u - \\gamma \\partial \\phi(t^*),\n",
    "\\end{equation}\n",
    "avec $\\phi : \\ t \\mapsto \\vert t \\vert$. \n",
    "Si $t>0$ alors $\\phi$ est dérivable de dérivée $1$. Si $t<0$ alors $\\phi$ est dérivable de dérivée $-1$. En $0$, on vérifie que \n",
    "\\begin{equation} \\forall t \\in \\mathbb{R}, \\vert t \\vert \\ge a t \\ \\Leftrightarrow a \\in \\partial \\phi (0). \\end{equation}\n",
    "Donc $\\partial \\phi(0) = [-1,1]$.\n",
    "On obtient donc les conditions suivantes pour tout $u \\in \\mathbb{R}$.\n",
    "\\begin{equation}\n",
    "\\left\\lbrace\n",
    "\\begin{aligned}\n",
    "& t^* = u - \\gamma \\ \\text{et} \\ t^* > 0 \\ \\text{ou} \\\\\n",
    "& t^* = u + \\gamma \\ \\text{et} \\ t^*<0 \\ \\text{ou} \\\\\n",
    "&t^* = 0 \\ \\text{et} \\ \\vert u \\vert \\le \\gamma\n",
    "\\end{aligned}\n",
    "\\right.\n",
    "\\end{equation}\n",
    "Si $\\vert u \\vert \\le \\gamma$ aucune des deux premières conditions ne peut être vérifiée. On a donc $t^*=0$. Par contre si $u>\\gamma$ on a $t^* = u - \\gamma$ qui convient (et aucune des autres conditions), de même si $u<\\gamma$ on a $t^* = u+ \\gamma$ qui convient (et aucune des autres conditions). La fonction obtenue est appelée la fonction **seuillage mou** (dans la littérature on trouve souvent *soft-thresholding*). \n",
    "\n",
    "**Remarque :** en se rappelant que l'opérateur proximal est un pas dans la version non-différentiable de la descente de gradient à pas fixe $\\gamma$ on obtient que dans un algorithme proximal ayant pour but de minimiser la norme $\\ell^1$ les mises à jours sont faites *normalement* (i.e comme dans une descente de gradient différentiable). Par contre, dès que les composantes sont trop faibles, elles sont envoyées à $0$."
   ]
  },
  {
   "cell_type": "code",
   "execution_count": 11,
   "metadata": {},
   "outputs": [
    {
     "name": "stdout",
     "output_type": "stream",
     "text": [
      "('||Ax-y||=', 0.16254260353651181)\n",
      "('Elapsed time=', 189.78746104240417, 's')\n"
     ]
    }
   ],
   "source": [
    "\"\"\"\n",
    "Created on Tue Mar 13 09:15:34 2018\n",
    "\n",
    "@author: alain_durmus\n",
    "\"\"\"\n",
    "\n",
    "import numpy as np\n",
    "import matplotlib.pyplot as plt\n",
    "from tp2_tools import *\n",
    "import warnings\n",
    "warnings.filterwarnings('ignore')\n",
    "import time\n",
    "#from ista import ista\n",
    "\n",
    "lambda_l1 = 10 ** -2\n",
    "n_it = 500\n",
    "n = 32\n",
    "r_sparse = 0.2\n",
    "r_info = 1\n",
    "y, A = noisy_observations(n, r_sparse, r_info)\n",
    "\n",
    "\n",
    "def proxL1(x, gamma):\n",
    "    eps = np.finfo(float).eps\n",
    "    return np.fmax(0, 1 - gamma / np.fmax(eps, np.abs(x))) * x\n",
    "\n",
    "\n",
    "def grad_f_1(x):\n",
    "    Q = A.T.dot(A)\n",
    "    Ay = A.T.dot(y)\n",
    "    grad_f_x = Q.dot(x) - Ay\n",
    "    Lip_grad_f = np.linalg.eigvalsh(Q).max()\n",
    "    return grad_f_x, Lip_grad_f\n",
    "\n",
    "\n",
    "def fun_total_1(x):\n",
    "    return lambda_l1 * np.linalg.norm(x, ord=1) + (1. / 2) * np.linalg.norm(A.dot(x) - y)**2\n",
    "\n",
    "\n",
    "dim = A.shape[1]\n",
    "\n",
    "start_time = time.time()\n",
    "x_final_ista, fun_iterate_ista = ista(\n",
    "    dim, proxL1, grad_f_1, fun_total_1, lambda_l1, n_it)\n",
    "elapsed_time = time.time() - start_time\n",
    "\n",
    "energy_plt = plt.figure(1)\n",
    "plt.plot(fun_iterate_ista)\n",
    "plt.title(r'$\\mathrm{Energy \\ evolution}$')\n",
    "plt.xlabel('iterates')\n",
    "plt.ylabel('energy value')\n",
    "plt.rc('text', usetex=True)\n",
    "plt.rc('font', family='serif')\n",
    "energy_plt.show()\n",
    "\n",
    "images_plt = plt.figure('images')\n",
    "images_plt.add_subplot(1, 3, 1)\n",
    "plt.axis('off')\n",
    "plt.imshow(load_image('barb.bmp', n), cmap='gray')\n",
    "plt.title(r'$\\mathrm{Original \\ image}$')\n",
    "plt.rc('text', usetex=True)\n",
    "plt.rc('font', family='serif')\n",
    "images_plt.add_subplot(1, 3, 2)\n",
    "plt.axis('off')\n",
    "plt.imshow(back_to_image(np.linalg.inv(A).dot(y)), cmap='gray')\n",
    "plt.title(r'$\\mathrm{Measurement}$')\n",
    "plt.rc('text', usetex=True)\n",
    "plt.rc('font', family='serif')\n",
    "images_plt.add_subplot(1, 3, 3)\n",
    "plt.axis('off')\n",
    "plt.imshow(back_to_image(x_final_ista), cmap='gray')\n",
    "plt.title(r'$\\mathrm{Recontructed}$')\n",
    "plt.rc('text', usetex=True)\n",
    "plt.rc('font', family='serif')\n",
    "images_plt.show()\n",
    "\n",
    "print(\"||Ax-y||=\", np.linalg.norm(A.dot(x_final_ista) - y))\n",
    "print(\"Elapsed time=\", elapsed_time, 's')"
   ]
  },
  {
   "cell_type": "markdown",
   "metadata": {},
   "source": [
    "# Minimisation de la fonction $\\max$\n",
    "<a id=\"max\"></a>"
   ]
  },
  {
   "cell_type": "markdown",
   "metadata": {},
   "source": [
    "On commence par introduire les fonctions et générer les données."
   ]
  },
  {
   "cell_type": "code",
   "execution_count": 7,
   "metadata": {},
   "outputs": [],
   "source": [
    "lambda_max = 1\n",
    "y, A = noisy_observation_inf()"
   ]
  },
  {
   "cell_type": "markdown",
   "metadata": {},
   "source": [
    "Comme précédemment on a $\\nabla f(x) = 2A^T(Ax- y)$."
   ]
  },
  {
   "cell_type": "markdown",
   "metadata": {},
   "source": [
    "On va poser la fonction $F_x(y) = \\underset{i \\in \\lbrace 1,d \\rbrace}{\\max}(y_i) + (2\\gamma)^{-1}( y-x)^2$ et $G_x(y,t) = t + (2\\gamma)^{-1}( y- x)^2$.\n",
    "Sur $C = \\left\\lbrace (y,t) \\in \\mathbb{R}^d, t \\in \\mathbb{R}, t\\ge y \\right\\rbrace$ on a \n",
    "\\begin{equation}\\forall (y,t) \\in C, G_x(y,t) \\ge G(y, \\underset{i \\in \\lbrace 1,d \\rbrace}{\\max}(y_i)) = F_x(y).\\end{equation}\n",
    "Ainsi\n",
    "\\begin{equation}\n",
    "\\underset{(y,t) \\in C}{\\min}G_x(y,t) \\ge \\underset{y \\in \\mathbb{R}^d}{\\min} F_x(y) = \\underset{(y,t) \\in C}{\\min}G(y,\\underset{i \\in \\lbrace 1,d \\rbrace}{\\max}(y_i)) \\ge \\underset{(y,t) \\in C}{\\min}G_x(y,t),\n",
    "\\end{equation}\n",
    "et l'égalité entre tous ces termes découle.\n",
    "On définit le **Lagrangien**\n",
    "\\begin{equation}\n",
    "\\mathcal{L}(y,t,\\Lambda) = t + (2\\gamma)^{-1} \\| y - x\\|^2 + \\langle \\Lambda, y-t \\mathbf{1}_d\\rangle.\n",
    "\\end{equation}\n",
    "Les conditions Karush-Kuhn-Tucker, *KKT*, assure que\n",
    "\\begin{equation}\n",
    "\\exists \\Lambda^* \\in \\left(\\mathbb{R}_+\\right)^d, \\nabla_{y,t} \\mathcal{L}(y^*,t^*, \\Lambda^*) = 0 \\quad \\text{ et } \\quad t^{*} \\geq \\max_{i \\in \\{1,\\ldots,d\\}} y_i^* ,\n",
    "\\end{equation}\n",
    "avec $(y^*,t^*)$ solution du **problème primal**.\n",
    "En écrivant les équations on obtient que $\\Lambda^*$ doit vérifier les équations suivantes\n",
    "\\begin{equation}\n",
    "\\left\\lbrace\n",
    "\\begin{aligned}\n",
    " & \\underset{i=1}{\\overset{n}{\\sum}} \\lambda^*_i = 1 \\\\\n",
    " & \\Lambda^* = \\gamma^{-1}(x-y^*)\n",
    "\\end{aligned}\n",
    "\\right. .\n",
    "\\end{equation}\n",
    "De plus les contraintes sont qualifiées donc $\\forall i \\in \\lbrace 1,\\ldots, d \\rbrace,  \\lambda_i^*(y_i^* - t^*) = 0$ et $\\lambda^*_i \\ge 0$. Cela implique que si $y_i^* < x_i$ alors $y_i^* = t^*$ et sinon on a $\\lambda_i = 0 = (x_i-t^*)_+$ comme $t^{*} \\geq \\max_{i \\in \\{1,\\ldots,d\\}} y_i$. Ainsi on obtient\n",
    "\\begin{equation}\n",
    "\\left\\lbrace\n",
    "\\begin{aligned}\n",
    " & \\underset{i=1}{\\overset{n}{\\sum}} \\lambda^*_i = 1 \\\\\n",
    " & \\Lambda^* =  \\gamma^{-1}\\left (x-t^*\\mathbf{1}_d\\right)_+ .\n",
    "\\end{aligned}\n",
    "\\right.\n",
    "\\end{equation}\n",
    "On a donc $t^*$ qui est solution de $g(t) = 0$\n",
    "\\begin{equation}\n",
    "g(t) := -1 + \\gamma^{-1} \\underset{i=1}{\\overset{d}{\\sum}}  \\left(x_i - t\\right)_+ .\n",
    "\\end{equation}\n",
    "C'est un problème unidimensionnel, décroissant qui admet une unique solution. On peut le résoudre par dichotomie."
   ]
  },
  {
   "cell_type": "code",
   "execution_count": 8,
   "metadata": {},
   "outputs": [
    {
     "name": "stdout",
     "output_type": "stream",
     "text": []
    },
    {
     "data": {
      "image/png": "[encoded data removed]",
      "text/plain": [
       "<Figure size 432x288 with 1 Axes>"
      ]
     },
     "metadata": {},
     "output_type": "display_data"
    }
   ],
   "source": [
    "#!/usr/bin/env python2\n",
    "# -*- coding: utf-8 -*-\n",
    "\"\"\"\n",
    "Created on Tue Mar 13 14:37:58 2018\n",
    "\n",
    "@author: alain_durmus\n",
    "\"\"\"\n",
    "\n",
    "\n",
    "import numpy as np\n",
    "import matplotlib.pyplot as plt\n",
    "from tp2_tools import *\n",
    "import warnings\n",
    "warnings.filterwarnings('ignore')\n",
    "from ista import ista\n",
    "\n",
    "lambda_max = 1\n",
    "y, A = noisy_observation_inf()\n",
    "\n",
    "\n",
    "def prox_max(v, gamma):\n",
    "    tol = 1e-8\n",
    "    max_iter = 1e2\n",
    "    rho = 1 / gamma\n",
    "\n",
    "    n = len(v)\n",
    "    t_low = np.min(v)\n",
    "    t_up = np.max(v)\n",
    "\n",
    "    def g(t):\n",
    "        return (np.sum(np.fmax(0, rho * (v - t))) - 1)\n",
    "\n",
    "    iteration = 0\n",
    "\n",
    "    while (t_up - t_low > tol) & (iteration <= max_iter):\n",
    "        t0 = (t_up + t_low) / 2\n",
    "        if np.sign(g(t0)) == np.sign(g(t_low)):\n",
    "            t_low = t0\n",
    "        else:\n",
    "            t_up = t0\n",
    "        iteration = iteration + 1\n",
    "    return np.fmin(t0, v)\n",
    "\n",
    "\n",
    "def grad_f_1(x):\n",
    "    Q = A.T.dot(A)\n",
    "    Ay = A.T.dot(y)\n",
    "    grad_f_x = Q.dot(x) - Ay\n",
    "    Lip_grad_f = np.linalg.eigvalsh(Q).max()\n",
    "    return grad_f_x, Lip_grad_f\n",
    "\n",
    "\n",
    "def fun_total_1(x):\n",
    "    return lambda_max * np.max(x) + (1. / 2) * np.linalg.norm(A.dot(x) - y)**2\n",
    "\n",
    "\n",
    "dim = A.shape[1]\n",
    "\n",
    "x_final_ista, fun_iterate_ista = ista(\n",
    "    dim, prox_max, grad_f_1, fun_total_1, lambda_max, n_it=500)\n",
    "\n",
    "plt.figure()\n",
    "plt.plot(fun_iterate_ista)\n",
    "plt.title(r'$\\mathrm{Energy \\ evolution}$')\n",
    "plt.xlabel('iterates')\n",
    "plt.ylabel('energy value')\n",
    "plt.rc('text', usetex=True)\n",
    "plt.rc('font', family='serif')\n",
    "plt.show()"
   ]
  },
  {
   "cell_type": "markdown",
   "metadata": {},
   "source": [
    "# Complétion de matrice de faible rang\n",
    "<a id=\"completion\"></a>"
   ]
  },
  {
   "cell_type": "markdown",
   "metadata": {},
   "source": [
    "## Norme de Schatten\n",
    "<a id =\"schatten\"></a>"
   ]
  },
  {
   "cell_type": "markdown",
   "metadata": {},
   "source": [
    "On définit la **p-norme de Schatten** par \n",
    "\\begin{equation}\n",
    "\\forall M \\in \\mathcal{M}_d(\\mathbb{R}), \\| M \\|_{S,p} = \\left( \\underset{i=1}{\\overset{d}{\\sum}} \\vert \\sigma_i \\vert^p \\right)^{\\frac{1}{p}},\n",
    "\\end{equation}\n",
    "avec $(\\sigma_i)_{i \\in \\lbrace 1,d \\rbrace}$ la collection des **valeurs singulières** de $M$. Les **p-normes de Schatten** sont effectivement des normes matricielles dès que $p \\ge 1$.\n",
    "La **norme de Ky-Fan** est la 1-norme de Schatten. On l'appelle encore **norme nucléaire** et on la note $\\| \\cdot \\|_*$. Elle possède des propriétés particulières (sa norme duale est la $\\infty$-norme de Schatten, i.e la norme d'opérateur sur les matrices). On va montrer ici ce cas particulier de dualité. Soit $X \\in \\mathcal{M}_d(\\mathbb{R})$. $X = O_1 \\Sigma O_2$ sa décomposition en valeurs singulières. Notons $X^* = O_1 \\operatorname{sign}(\\Sigma) O_2$. Alors les valeurs singulières de $X^*$ sont majorées par $1$. Donc $\\vert \\vert \\vert X^* \\vert \\vert \\vert \\le 1$.\n",
    "\\begin{equation}\n",
    "\\langle X, X^* \\rangle = \\operatorname{Tr} \\left( O_2^T  \\Sigma  O_1^T O_1 \\operatorname{sign}(\\Sigma) O_2 \\right) = \\| X \\|_*.\n",
    "\\end{equation}\n",
    "On a donc \n",
    "\\begin{equation}\n",
    "\\underset{V, \\vert \\vert \\vert V \\vert \\vert \\vert \\le 1}{\\sup} \\langle X,V \\rangle \\ge \\| X \\|_* .\n",
    "\\end{equation}\n",
    "Dans l'autre sens,\n",
    "\\begin{equation}\n",
    "\\begin{aligned}\n",
    "\\underset{V, \\vert \\vert \\vert V \\vert \\vert \\vert \\le 1}{\\sup} \\langle X,V \\rangle &= \\underset{V, \\vert \\vert \\vert V \\vert \\vert \\vert \\le 1}{\\sup} \\operatorname{Tr} \\left( \\Sigma O_1^T V O_2\\right)\n",
    " \\\\\n",
    "&=\\underset{V, \\vert \\vert \\vert V \\vert \\vert \\vert \\le 1}{\\sup} \\underset{i=1}{\\overset{n}{\\sum}} \\sigma_i \\left( O_1^T V O_2\\right)_{ii} \\\\\n",
    "&=\\underset{V, \\vert \\vert \\vert V\\vert \\vert \\vert \\le 1}{\\sup} \\underset{i=1}{\\overset{n}{\\sum}} \\sigma_i \\left(O_1^T\\right)_i V \\left(O_2\\right)_i \\\\\n",
    "&\\le \\| X \\|_*.\n",
    "\\end{aligned}\n",
    "\\end{equation}\n",
    "On en déduit l'égalité voulue."
   ]
  },
  {
   "cell_type": "code",
   "execution_count": 9,
   "metadata": {},
   "outputs": [],
   "source": [
    "lambda_nuclear = 1\n",
    "Y, A = noisy_observation_nuclear()"
   ]
  },
  {
   "cell_type": "markdown",
   "metadata": {},
   "source": [
    "Calculons le gradient de $X \\mapsto \\|  A \\circ X - Y \\|^2$. En observant le comportement composante par composante on obtient\n",
    "\\begin{equation}\n",
    "\\begin{aligned}\n",
    "\\nabla f(X) &= A \\circ \\left( A \\circ X - Y\\right) \\\\\n",
    "&= A \\circ \\left(X- Y\\right).\n",
    "\\end{aligned}\n",
    "\\end{equation}\n",
    "On va désormais montrer qu'un problème de minimisation faisant intervenir des normes de Schatten peut en fait se résoudre comme un problème vectoriel en utilisant la décomposition en valeurs singulières. On va utiliser l'invariance, élémentaire mais crucial, des normes de Schatten par isométrie. Cette invariance provient de l'invariance des valeurs singulières par isométrie.\n",
    "\n",
    "\\begin{equation}\n",
    "\\begin{aligned}\n",
    "\\underset{Y \\in \\mathcal{M}_d(\\mathbb{R})}{\\min} \\|Y\\|_* + (2\\gamma)^{-1} \\| Y - X \\|_2^2 &=  \\underset{Y \\in \\mathcal{M}_d(\\mathbb{R})}{\\min} \\|Y\\|_* + (2\\gamma)^{-1} \\| Y - O_1 \\Sigma 0_2 \\|_2^2 \\\\\n",
    "&=\\underset{O_1YO_2 \\in \\mathcal{M}_d(\\mathbb{R})}{\\min} \\|O_1YO_2\\|_* + (2\\gamma)^{-1} \\| O_1(Y - \\Sigma)O_2 \\|_2^2 \\\\\n",
    "&=\\underset{O_1YO_2 \\in \\mathcal{M}_d(\\mathbb{R})}{\\min} \\|Y\\|_* + (2\\gamma)^{-1} \\| Y - \\Sigma\\|_2^2 \\\\\n",
    "&=\\underset{Y\\in \\mathcal{M}_d(\\mathbb{R})}{\\min} \\|Y\\|_* + (2\\gamma)^{-1} \\| Y - \\Sigma\\|_2^2 \n",
    "\\end{aligned}\n",
    "\\end{equation}\n",
    "Soit $O_1' Y O_2' = \\Sigma_Y$ a les mêmes valeurs singulières que $Y$ et vérifie \n",
    "\\begin{equation}\n",
    "\\| \\Sigma_Y - D \\|_2^2 \\le \\|Y - D \\|_2^2.\n",
    "\\end{equation}\n",
    "Ainsi on a \n",
    "\\begin{equation}\n",
    "\\underset{Y\\in \\mathcal{M}_d(\\mathbb{R})}{\\min} \\|Y\\|_* + (2\\gamma)^{-1} \\| Y - \\Sigma\\|_2^2 \\ge \\underset{D\\in \\operatorname{diag}(\\mathbb{R}^d)}{\\min} \\|D\\|_* + (2\\gamma)^{-1} \\| D - \\Sigma\\|_2^2.\n",
    "\\end{equation}\n",
    "L'autre inégalité est triviale. On résout le problème sur $D$ et on remonte à $Y$ en considérant $O_1 D O_2$.\n",
    "On a donc prouvé que pour calculer l'opérateur proximal de la norme nucléaire il suffit de connaître l'opérateur proximal de la norme $\\ell^1$, i.e\n",
    "\\begin{equation}\n",
    "\\operatorname{prox}_{\\| \\cdot \\|_*}^{\\gamma}(X) = O_1 \\operatorname{prox}_{\\ell^1}^{\\gamma}(\\Sigma) O_2.\n",
    "\\end{equation}"
   ]
  },
  {
   "cell_type": "code",
   "execution_count": null,
   "metadata": {},
   "outputs": [],
   "source": [
    "\"\"\"\n",
    "Created on Tue Mar 13 16:19:57 2018\n",
    "\n",
    "@author: alain_durmus\n",
    "\"\"\"\n",
    "\n",
    "\n",
    "import numpy as np\n",
    "import matplotlib.pyplot as plt\n",
    "from tp2_tools import *\n",
    "import warnings\n",
    "warnings.filterwarnings('ignore')\n",
    "from ista import ista_mat\n",
    "\n",
    "lambda_nuclear = 1\n",
    "Y, A = noisy_observation_nuclear()\n",
    "\n",
    "\n",
    "def proxL1(x, gamma):\n",
    "    eps = np.finfo(float).eps\n",
    "    return np.fmax(0, 1 - gamma / np.fmax(eps, np.abs(x))) * x\n",
    "\n",
    "\n",
    "def prox_nuclear(X, gamma):\n",
    "    u, s, vh = np.linalg.svd(X)\n",
    "    s_prox = proxL1(s, gamma)\n",
    "    return u.dot(np.diag(s_prox).dot(vh))\n",
    "\n",
    "\n",
    "def grad_f_1(X):\n",
    "    grad_f_x = A * X - A * Y\n",
    "    Lip_grad_f = 1\n",
    "    return grad_f_x, Lip_grad_f\n",
    "\n",
    "\n",
    "def fun_total_1(X):\n",
    "    return lambda_nuclear * np.linalg.norm(X, ord='nuc') + (1. / 2) * np.linalg.norm(Y - A * X)**2\n",
    "\n",
    "\n",
    "dim_1 = A.shape[0]\n",
    "dim_2 = A.shape[1]\n",
    "\n",
    "x_final_ista, fun_iterate_ista = ista_mat(\n",
    "    dim_1, dim_2, prox_nuclear, grad_f_1, fun_total_1, lambda_nuclear, n_it=500)\n",
    "\n",
    "energy_plt = plt.figure()\n",
    "plt.plot(fun_iterate_ista)\n",
    "plt.title(r'$\\mathrm{Energy \\ evolution}$')\n",
    "plt.xlabel('iterates')\n",
    "plt.ylabel('energy value')\n",
    "plt.rc('text', usetex=True)\n",
    "plt.rc('font', family='serif')\n",
    "energy_plt.show()\n",
    "\n",
    "matrix_plt = plt.figure()\n",
    "matrix_plt.add_subplot(1, 3, 1)\n",
    "plt.axis('off')\n",
    "plt.imshow(Y)\n",
    "plt.title(r'$\\mathrm{Measurement}$')\n",
    "plt.rc('text', usetex=True)\n",
    "plt.rc('font', family='serif')\n",
    "matrix_plt.add_subplot(1, 3, 2)\n",
    "plt.axis('off')\n",
    "plt.imshow(x_final_ista)\n",
    "plt.title(r'$\\mathrm{Estimated}$')\n",
    "plt.rc('text', usetex=True)\n",
    "plt.rc('font', family='serif')\n",
    "matrix_plt.add_subplot(1, 3, 3)\n",
    "plt.axis('off')\n",
    "plt.imshow(A * x_final_ista)\n",
    "plt.title(r'$\\mathrm{Uncomplete \\ estimated}$')\n",
    "plt.rc('text', usetex=True)\n",
    "plt.rc('font', family='serif')\n",
    "matrix_plt.show()"
   ]
  },
  {
   "cell_type": "code",
   "execution_count": null,
   "metadata": {},
   "outputs": [],
   "source": []
  }
 ],
 "metadata": {
  "extensions": {
   "jupyter_dashboards": {
    "activeView": "report_default",
    "version": 1,
    "views": {
     "grid_default": {
      "cellMargin": 10,
      "defaultCellHeight": 20,
      "maxColumns": 12,
      "name": "grid",
      "type": "grid"
     },
     "report_default": {
      "name": "report",
      "type": "report"
     }
    }
   }
  },
  "kernelspec": {
   "display_name": "Python 2",
   "language": "python",
   "name": "python2"
  },
  "language_info": {
   "codemirror_mode": {
    "name": "ipython",
    "version": 2
   },
   "file_extension": ".py",
   "mimetype": "text/x-python",
   "name": "python",
   "nbconvert_exporter": "python",
   "pygments_lexer": "ipython2",
   "version": "2.7.14"
  }
 },
 "nbformat": 4,
 "nbformat_minor": 2
}
